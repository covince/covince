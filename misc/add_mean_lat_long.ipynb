{
 "cells": [
  {
   "cell_type": "code",
   "execution_count": 3,
   "id": "catholic-tractor",
   "metadata": {},
   "outputs": [],
   "source": [
    "import json"
   ]
  },
  {
   "cell_type": "code",
   "execution_count": 7,
   "id": "protecting-playback",
   "metadata": {},
   "outputs": [],
   "source": [
    "a=json.load(open(\"../src/assets/hex2.json\"))"
   ]
  },
  {
   "cell_type": "code",
   "execution_count": 8,
   "id": "existing-handbook",
   "metadata": {},
   "outputs": [],
   "source": [
    "for f in a['features']:\n",
    "    xes = [b[0] for b in f['geometry']['coordinates'][0]]\n",
    "    long = sum(xes)/len(xes)\n",
    "    yes = [b[1] for b in f['geometry']['coordinates'][0]]\n",
    "    lat = sum(yes)/len(yes)\n",
    "    f['properties']['lat'] = lat\n",
    "    f['properties']['long'] = long"
   ]
  },
  {
   "cell_type": "code",
   "execution_count": 9,
   "id": "polyphonic-pantyhose",
   "metadata": {},
   "outputs": [
    {
     "data": {
      "text/plain": [
       "[[-0.6859170619141484, 51.29803403239136],\n",
       " [-0.5569442942579634, 51.37249649451579],\n",
       " [-0.5569442942579634, 51.52142141876463],\n",
       " [-0.6859170619141484, 51.59588388088906],\n",
       " [-0.8148898295703333, 51.52142141876463],\n",
       " [-0.8148898295703333, 51.37249649451579],\n",
       " [-0.6859170619141484, 51.29803403239136]]"
      ]
     },
     "execution_count": 9,
     "metadata": {},
     "output_type": "execute_result"
    }
   ],
   "source": [
    "a['features'][0]['geometry']['coordinates'][0]"
   ]
  },
  {
   "cell_type": "code",
   "execution_count": 10,
   "id": "impressive-hotel",
   "metadata": {},
   "outputs": [],
   "source": [
    "json.dump(a,open(\"hex3.json\",\"w\"))"
   ]
  },
  {
   "cell_type": "code",
   "execution_count": null,
   "id": "occupied-married",
   "metadata": {},
   "outputs": [],
   "source": []
  }
 ],
 "metadata": {
  "kernelspec": {
   "display_name": "Python 3",
   "language": "python",
   "name": "python3"
  },
  "language_info": {
   "codemirror_mode": {
    "name": "ipython",
    "version": 3
   },
   "file_extension": ".py",
   "mimetype": "text/x-python",
   "name": "python",
   "nbconvert_exporter": "python",
   "pygments_lexer": "ipython3",
   "version": "3.8.5"
  }
 },
 "nbformat": 4,
 "nbformat_minor": 5
}
